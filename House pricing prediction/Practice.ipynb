{
 "cells": [
  {
   "cell_type": "code",
   "execution_count": 5,
   "id": "0cee7642",
   "metadata": {},
   "outputs": [],
   "source": [
    "import csv\n",
    "import pandas as pd\n",
    "import numpy as np"
   ]
  },
  {
   "cell_type": "code",
   "execution_count": 6,
   "id": "4395f6be",
   "metadata": {},
   "outputs": [],
   "source": [
    "df1 = pd.read_csv(\"bengaluru_house_prices.csv\")"
   ]
  },
  {
   "cell_type": "code",
   "execution_count": null,
   "id": "e238f155",
   "metadata": {},
   "outputs": [],
   "source": []
  },
  {
   "cell_type": "code",
   "execution_count": 2,
   "id": "ceae2fa4",
   "metadata": {},
   "outputs": [
    {
     "ename": "NameError",
     "evalue": "name 'df1' is not defined",
     "output_type": "error",
     "traceback": [
      "\u001b[1;31m---------------------------------------------------------------------------\u001b[0m",
      "\u001b[1;31mNameError\u001b[0m                                 Traceback (most recent call last)",
      "\u001b[1;32m<ipython-input-2-eda2b5cc1a42>\u001b[0m in \u001b[0;36m<module>\u001b[1;34m\u001b[0m\n\u001b[1;32m----> 1\u001b[1;33m \u001b[0mdf1\u001b[0m\u001b[1;33m.\u001b[0m\u001b[0mhead\u001b[0m\u001b[1;33m(\u001b[0m\u001b[1;33m)\u001b[0m\u001b[1;33m\u001b[0m\u001b[1;33m\u001b[0m\u001b[0m\n\u001b[0m",
      "\u001b[1;31mNameError\u001b[0m: name 'df1' is not defined"
     ]
    }
   ],
   "source": [
    "df1.head()"
   ]
  },
  {
   "cell_type": "code",
   "execution_count": 3,
   "id": "0ee2cbca",
   "metadata": {},
   "outputs": [],
   "source": [
    "def list_all_area_type(csv_file, output_file):\n",
    "    area_type = []\n",
    "\n",
    "    with open(csv_file, 'r') as file:\n",
    "        reader = csv.DictReader(file)\n",
    "        for row in reader:\n",
    "            area_type.append(row[\"location\"])\n",
    "\n",
    "    with open(output_file, 'w') as file:\n",
    "        for area in area_type:\n",
    "            file.write(area + '\\n')"
   ]
  },
  {
   "cell_type": "code",
   "execution_count": 24,
   "id": "d78cf8e4",
   "metadata": {},
   "outputs": [],
   "source": [
    "csv_file_path = 'bengaluru_house_prices.csv'\n",
    "all_area_type_path = 'all_area.txt'"
   ]
  },
  {
   "cell_type": "code",
   "execution_count": 25,
   "id": "e06af824",
   "metadata": {},
   "outputs": [],
   "source": [
    "list_all_area_type(csv_file_path, all_area_type_path)"
   ]
  },
  {
   "cell_type": "code",
   "execution_count": 28,
   "id": "88bd0ba6",
   "metadata": {},
   "outputs": [],
   "source": [
    "def list_all_unique_area_type(csv_file, output_file):\n",
    "    unique_area_type = set()\n",
    "\n",
    "    with open(csv_file, 'r') as file:\n",
    "        reader = csv.DictReader(file)\n",
    "        for row in reader:\n",
    "            unique_area_type.add(row[\"location\"])\n",
    "\n",
    "    with open(output_file, 'w') as file:\n",
    "        for area in unique_area_type:\n",
    "            file.write(area + '\\n')"
   ]
  },
  {
   "cell_type": "code",
   "execution_count": 29,
   "id": "808a0bf9",
   "metadata": {},
   "outputs": [],
   "source": [
    "all_unique_area_type_path = 'all_unique_area.txt'"
   ]
  },
  {
   "cell_type": "code",
   "execution_count": 30,
   "id": "af4f6508",
   "metadata": {},
   "outputs": [],
   "source": [
    "list_all_unique_area_type(csv_file_path, all_unique_area_type_path)"
   ]
  },
  {
   "cell_type": "code",
   "execution_count": null,
   "id": "ac67beb0",
   "metadata": {},
   "outputs": [],
   "source": []
  }
 ],
 "metadata": {
  "kernelspec": {
   "display_name": "Python 3",
   "language": "python",
   "name": "python3"
  },
  "language_info": {
   "codemirror_mode": {
    "name": "ipython",
    "version": 3
   },
   "file_extension": ".py",
   "mimetype": "text/x-python",
   "name": "python",
   "nbconvert_exporter": "python",
   "pygments_lexer": "ipython3",
   "version": "3.8.8"
  }
 },
 "nbformat": 4,
 "nbformat_minor": 5
}
